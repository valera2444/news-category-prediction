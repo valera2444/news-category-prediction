{
 "cells": [
  {
   "cell_type": "code",
   "execution_count": 9,
   "metadata": {},
   "outputs": [],
   "source": [
    "from kfp import dsl\n",
    "\n",
    "@dsl.container_component\n",
    "def error_analysis(bucket_name: str, data_path: str, out_path: str):\n",
    "    return dsl.ContainerSpec(\n",
    "        image=\"valeriy459/error-analysis:latest\",\n",
    "        command=[\"python3\", \"error_analysis.py\"],  # Ensure this script is in the container\n",
    "        args=[\"--bucket_name\", bucket_name, \"--data_path\", data_path, \"--out_path\", out_path],\n",
    "    )\n",
    "\n",
    "from kfp import dsl\n",
    "\n",
    "@dsl.container_component\n",
    "def prepare_data(bucket_name: str, data_path: str):\n",
    "    return dsl.ContainerSpec(\n",
    "        image=\"valeriy459/prepare-data:latest\",\n",
    "        command=[\"python3\", \"prepare_data.py\"],  # Ensure this script is inside the container\n",
    "        args=[\"--bucket_name\", bucket_name, \"--data_path\", data_path],\n",
    "    )\n",
    "from kfp import dsl\n",
    "\n",
    "@dsl.container_component\n",
    "def train_model(bucket_name: str, train_batch_size: int, eval_batch_size: int):\n",
    "    return dsl.ContainerSpec(\n",
    "        image=\"valeriy459/train-model:latest\",\n",
    "        command=[\"python3\", \"train_model.py\"],  # Ensure this script is inside the container\n",
    "        args=[\n",
    "            \"--bucket_name\", bucket_name,\n",
    "            \"--train_batch_size\",train_batch_size,\n",
    "            \"--eval_batch_size\", eval_batch_size,\n",
    "        ],\n",
    "    )\n",
    "\n",
    "from kfp import dsl\n",
    "\n",
    "@dsl.container_component\n",
    "def inference(bucket_name: str, model_path: str, batch_size: int):\n",
    "    return dsl.ContainerSpec(\n",
    "        image=\"valeriy459/inference:latest\",\n",
    "        command=[\"python3\", \"inference.py\"],  # Ensure script is inside the container\n",
    "        args=[\n",
    "            \"--bucket_name\", bucket_name,\n",
    "            \"--model_path\", model_path,\n",
    "            \"--batch_size\",batch_size,\n",
    "        ],\n",
    "    )\n"
   ]
  },
  {
   "cell_type": "code",
   "execution_count": 10,
   "metadata": {},
   "outputs": [],
   "source": [
    "from kfp import dsl\n",
    "\n",
    "@dsl.pipeline(name=\"news-classification-pipeline\")\n",
    "def pipeline(\n",
    "    bucket_name: str = \"my-bucket\",\n",
    "    data_path: str = \"data.json\",\n",
    "    model_path: str = \"best_model.pt\",\n",
    "    train_batch_size: int = 32,\n",
    "    eval_batch_size: int = 200,\n",
    "    inference_batch_size: int = 64,\n",
    "    error_analysis_out: str = \"error_analysis\"\n",
    "):\n",
    "    # Step 1: Prepare Data\n",
    "    prepare_task = prepare_data(bucket_name=bucket_name, data_path=data_path)\n",
    "\n",
    "    # Step 2: Train Model (depends on prepared data)\n",
    "    train_task = train_model(\n",
    "        bucket_name=bucket_name,\n",
    "        train_batch_size=train_batch_size,\n",
    "        eval_batch_size=eval_batch_size\n",
    "    ).after(prepare_task)\n",
    "\n",
    "    # Step 3: Inference (depends on trained model)\n",
    "    inference_task = inference(\n",
    "        bucket_name=bucket_name,\n",
    "        model_path=model_path,\n",
    "        batch_size=inference_batch_size\n",
    "    ).after(train_task)\n",
    "\n",
    "    # Step 4: Error Analysis (depends on inference)\n",
    "    error_analysis_task = error_analysis(\n",
    "        bucket_name=bucket_name,\n",
    "        data_path=data_path,\n",
    "        out_path=error_analysis_out\n",
    "    ).after(inference_task)\n"
   ]
  },
  {
   "cell_type": "code",
   "execution_count": 11,
   "metadata": {},
   "outputs": [],
   "source": [
    "from kfp import compiler\n",
    "compiler.Compiler().compile(pipeline, \"pipeline.yaml\")"
   ]
  },
  {
   "cell_type": "code",
   "execution_count": null,
   "metadata": {},
   "outputs": [],
   "source": []
  }
 ],
 "metadata": {
  "kernelspec": {
   "display_name": "news_category_classification",
   "language": "python",
   "name": "python3"
  },
  "language_info": {
   "codemirror_mode": {
    "name": "ipython",
    "version": 3
   },
   "file_extension": ".py",
   "mimetype": "text/x-python",
   "name": "python",
   "nbconvert_exporter": "python",
   "pygments_lexer": "ipython3",
   "version": "3.12.3"
  }
 },
 "nbformat": 4,
 "nbformat_minor": 2
}
